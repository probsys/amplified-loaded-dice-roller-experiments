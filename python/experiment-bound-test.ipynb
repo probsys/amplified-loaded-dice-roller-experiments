{
 "cells": [
  {
   "cell_type": "code",
   "execution_count": 1,
   "metadata": {},
   "outputs": [],
   "source": [
    "from customtree import *\n",
    "from IntegerPartitions import *"
   ]
  },
  {
   "cell_type": "code",
   "execution_count": 2,
   "metadata": {},
   "outputs": [
    {
     "data": {
      "text/plain": [
       "True"
      ]
     },
     "execution_count": 2,
     "metadata": {},
     "output_type": "execute_result"
    }
   ],
   "source": [
    "# linear lower bound check\n",
    "all([(2-(k-b-3+1/math.log(2))/2**(k-b-1) < (2-(2**(b+1)+k+2)/(2**k+0))) for k in range(8,40) for b in range(k-2)])"
   ]
  },
  {
   "cell_type": "code",
   "execution_count": 3,
   "metadata": {},
   "outputs": [],
   "source": [
    "import math\n",
    "for k in range(8, 20):\n",
    "    for m in range(2**(k-1)+1,2**k):\n",
    "        a = (m&-m).bit_length()-1\n",
    "        p2k = 1<<k\n",
    "        for K in range(k*2,k*2+3):\n",
    "            p2K = 1<<K\n",
    "            p2d2k = 1<<(K-k*2)\n",
    "            c,A0 = divmod(p2K,m)\n",
    "            M=c*m\n",
    "            for b in range(a+1):\n",
    "                if b==k-2:\n",
    "                    break\n",
    "                p2b=1<<b\n",
    "                LHS = (c*p2b/A0 + c*(m-p2b)/p2K)*(k-b-2+1/math.log(2))\n",
    "                RHS = 2*p2b+K+2-A0.bit_length()\n",
    "                LHSAPP0 = 2*p2b + p2b*(c/A0-c/p2K)*(k-b-4+1/math.log(2)) + (M/p2K)*(k-b-2+1/math.log(2))\n",
    "                LHSAPP1 = 2*p2b + p2b*(c/A0-c/p2K)*(k-b-4+1/math.log(2)) + (k-b-1)\n",
    "                LHSAPP2 = 2*p2b + p2b*p2d2k*(p2k/A0)*(k-b-4+1/math.log(2)) + (k-b-1)\n",
    "                LHSAPP3 = 2*p2b + p2b*p2d2k*(2-A0/p2k)*(k-b-4+1/math.log(2)) + (k-b-1)\n",
    "                LHSAPPS = [LHS,LHSAPP0,LHSAPP1,LHSAPP2,LHSAPP3]\n",
    "                if LHSAPPS != sorted(LHSAPPS,reverse=True):\n",
    "                    print(k,K,m,b,LHSAPPS,RHS)\n",
    "                for LHSAPP in LHSAPPS:\n",
    "                    if LHSAPP <= RHS:\n",
    "                        print(k,K,m,b,LHS,LHSAPP,RHS)"
   ]
  }
 ],
 "metadata": {
  "kernelspec": {
   "display_name": "aldr-experiments",
   "language": "python",
   "name": "python3"
  },
  "language_info": {
   "codemirror_mode": {
    "name": "ipython",
    "version": 3
   },
   "file_extension": ".py",
   "mimetype": "text/x-python",
   "name": "python",
   "nbconvert_exporter": "python",
   "pygments_lexer": "ipython3",
   "version": "3.12.3"
  }
 },
 "nbformat": 4,
 "nbformat_minor": 2
}
