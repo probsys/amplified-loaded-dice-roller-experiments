{
 "cells": [
  {
   "cell_type": "markdown",
   "metadata": {},
   "source": [
    "### Automatically convert distributions to FLDR trees displayable with `tikz-qtree`"
   ]
  },
  {
   "cell_type": "code",
   "execution_count": 1,
   "metadata": {},
   "outputs": [],
   "source": [
    "def conv(dist, depth):\n",
    "    p2 = 2 ** depth\n",
    "    m = sum(dist.values())\n",
    "    mult, rej = divmod(p2, m)\n",
    "    ndist = {k: v * mult for k, v in dist.items()}\n",
    "    ndist[r\"$\\mathtt{R}$\"] = rej\n",
    "    subtrees = []\n",
    "    for i in range(depth):\n",
    "        subtrees.extend(k for k,v in ndist.items() if v & (1<<i))\n",
    "        assert len(subtrees)%2 == 0\n",
    "        subtrees = [f\"[ {subtrees[j]} {subtrees[j+1]} ]\" for j in range(0, len(subtrees), 2)]\n",
    "    assert len(subtrees) == 1\n",
    "    return subtrees[0]\n",
    "\n",
    "def pconv(dist, depth):\n",
    "    print(f\"\\\\Tree {conv(dist, depth)}\")"
   ]
  },
  {
   "cell_type": "code",
   "execution_count": 2,
   "metadata": {},
   "outputs": [
    {
     "name": "stdout",
     "output_type": "stream",
     "text": [
      "\\Tree [ [ [ [ [ 7 $\\mathtt{R}$ ] 7 ] 4 ] [ 7 $\\mathtt{R}$ ] ] [ 8 $\\mathtt{R}$ ] ]\n",
      "\\Tree [ [ [ [ [ [ 7 $\\mathtt{R}$ ] $\\mathtt{R}$ ] 4 ] [ 7 $\\mathtt{R}$ ] ] [ 4 8 ] ] [ 7 8 ] ]\n",
      "\\Tree [ [ [ [ [ [ [ [ 7 $\\mathtt{R}$ ] 7 ] 4 ] 7 ] [ 8 $\\mathtt{R}$ ] ] [ 4 7 ] ] [ 4 8 ] ] [ 7 8 ] ]\n",
      "\\Tree [ [ [ [ [ [ [ [ [ [ [ [ [ [ [ [ [ [ 7 $\\mathtt{R}$ ] 7 ] 4 ] 8 ] 4 ] 8 ] 7 ] 4 ] 4 ] [ 7 8 ] ] [ 4 8 ] ] [ 4 8 ] ] [ 7 8 ] ] [ 4 7 ] ] [ 7 8 ] ] [ 4 7 ] ] [ 4 8 ] ] [ 7 8 ] ]\n"
     ]
    }
   ],
   "source": [
    "for depth in [5,6,8,18]:\n",
    "    pconv({'4':4, '7':7, '8':8}, depth)"
   ]
  },
  {
   "cell_type": "code",
   "execution_count": 3,
   "metadata": {},
   "outputs": [
    {
     "name": "stdout",
     "output_type": "stream",
     "text": [
      "\\Tree [ [ [ [ [ 1 3 ] 1 ] [ 2 $\\mathtt{R}$ ] ] [ 2 4 ] ] [ 3 4 ] ]\n"
     ]
    }
   ],
   "source": [
    "pconv({'1':1, '2':2, '3':3, '4':4}, 5)"
   ]
  },
  {
   "cell_type": "code",
   "execution_count": 4,
   "metadata": {},
   "outputs": [
    {
     "name": "stdout",
     "output_type": "stream",
     "text": [
      "\\Tree [ [ [ [ 7 $\\mathtt{R}$ ] 6 ] [ 7 $\\mathtt{R}$ ] ] [ 6 7 ] ]\n"
     ]
    }
   ],
   "source": [
    "pconv({'6':6, '7':7}, 4)"
   ]
  },
  {
   "cell_type": "code",
   "execution_count": 5,
   "metadata": {},
   "outputs": [
    {
     "name": "stdout",
     "output_type": "stream",
     "text": [
      "\\Tree [ [ [ [ [ [ [ 7 $\\mathtt{R}$ ] 6 ] [ 7 $\\mathtt{R}$ ] ] [ 6 7 ] ] [ 7 $\\mathtt{R}$ ] ] [ 6 7 ] ] [ 6 7 ] ]\n"
     ]
    }
   ],
   "source": [
    "pconv({'6':6, '7':7}, 7)"
   ]
  }
 ],
 "metadata": {
  "kernelspec": {
   "display_name": "aldr-experiments",
   "language": "python",
   "name": "python3"
  },
  "language_info": {
   "codemirror_mode": {
    "name": "ipython",
    "version": 3
   },
   "file_extension": ".py",
   "mimetype": "text/x-python",
   "name": "python",
   "nbconvert_exporter": "python",
   "pygments_lexer": "ipython3",
   "version": "3.12.3"
  }
 },
 "nbformat": 4,
 "nbformat_minor": 2
}
