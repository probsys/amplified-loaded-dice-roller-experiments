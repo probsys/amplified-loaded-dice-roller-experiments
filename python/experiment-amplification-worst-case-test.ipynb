{
 "cells": [
  {
   "cell_type": "markdown",
   "metadata": {},
   "source": [
    "### Explore which distributions give the worst-case toll for ALDR[P, 2k]"
   ]
  },
  {
   "cell_type": "code",
   "execution_count": 1,
   "metadata": {},
   "outputs": [],
   "source": [
    "from customtree import *\n",
    "from IntegerPartitions import *"
   ]
  },
  {
   "cell_type": "code",
   "execution_count": 2,
   "metadata": {},
   "outputs": [
    {
     "name": "stdout",
     "output_type": "stream",
     "text": [
      "m=2, k=1, maxtoll=0, maxA=0\n",
      "m=3, k=2, maxtoll=1.0817041659455104, maxA=[2, 1]\n",
      "m=4, k=2, maxtoll=0.6887218755408672, maxA=[3, 1]\n",
      "m=5, k=3, maxtoll=1.278071905112638, maxA=[1, 1, 1, 1, 1]\n",
      "m=6, k=3, maxtoll=1.5408520829727554, maxA=[3, 1, 1, 1]\n",
      "m=7, k=3, maxtoll=1.4083272214176725, maxA=[6, 1]\n",
      "m=8, k=3, maxtoll=1.2064355568004037, maxA=[7, 1]\n",
      "m=9, k=4, maxtoll=1.4967416652243548, maxA=[2, 2, 1, 1, 1, 1, 1]\n",
      "m=10, k=4, maxtoll=1.671035952556319, maxA=[5, 2, 1, 1, 1]\n",
      "m=11, k=4, maxtoll=1.6237441197978544, maxA=[5, 5, 1]\n",
      "m=12, k=4, maxtoll=1.770426041486378, maxA=[3, 3, 3, 1, 1, 1]\n",
      "m=13, k=4, maxtoll=1.7388687861896965, maxA=[10, 3]\n",
      "m=14, k=4, maxtoll=1.7041636107088363, maxA=[7, 6, 1]\n",
      "m=15, k=4, maxtoll=1.6466406649785785, maxA=[14, 1]\n",
      "m=16, k=4, maxtoll=1.537709933382986, maxA=[15, 1]\n",
      "m=17, k=5, maxtoll=1.677243041102602, maxA=[8, 8, 1]\n",
      "m=18, k=5, maxtoll=1.801567681960786, maxA=[17, 1]\n",
      "m=19, k=5, maxtoll=1.8296379794819022, maxA=[18, 1]\n",
      "m=20, k=5, maxtoll=1.81951797627816, maxA=[5, 5, 5, 2, 2, 1]\n",
      "m=21, k=5, maxtoll=1.723804572352061, maxA=[20, 1]\n",
      "m=22, k=5, maxtoll=1.8197771982388482, maxA=[11, 10, 1]\n",
      "m=23, k=5, maxtoll=1.7736018846948685, maxA=[11, 11, 1]\n",
      "m=24, k=5, maxtoll=1.885213020743189, maxA=[12, 6, 3, 1, 1, 1]\n",
      "m=25, k=5, maxtoll=1.7897078109175855, maxA=[12, 6, 3, 3, 1]\n",
      "m=26, k=5, maxtoll=1.8280468572386268, maxA=[13, 12, 1]\n",
      "m=27, k=5, maxtoll=1.8195099040945202, maxA=[13, 13, 1]\n",
      "m=28, k=5, maxtoll=1.8520818053544184, maxA=[14, 7, 3, 3, 1]\n",
      "m=29, k=5, maxtoll=1.7993666143467648, maxA=[28, 1]\n",
      "maxmaxtoll=1.885213020743189, maxmaxA=[12, 6, 3, 1, 1, 1]\n"
     ]
    }
   ],
   "source": [
    "maxmaxtoll = 0\n",
    "maxmaxA = []\n",
    "for m in range(2,30):\n",
    "    k = (m-1).bit_length()\n",
    "    maxtoll = 0\n",
    "    maxA = 0\n",
    "    for A in revlex_partitions(m):\n",
    "        if len(A) == 1:\n",
    "            continue\n",
    "        g = math.gcd(*A)\n",
    "        A = [a//g for a in A]\n",
    "        cost = get_tree_entropy(gen_fldr_tree(A, max_depth=k*2))\n",
    "        entropy = H(A)\n",
    "        toll = cost - entropy\n",
    "        if toll > maxtoll:\n",
    "            maxtoll = toll\n",
    "            maxA = A.copy()\n",
    "    print(f\"m={m}, k={k}, maxtoll={maxtoll}, maxA={maxA}\")\n",
    "    if maxtoll >= 2:\n",
    "        break\n",
    "    if maxtoll > maxmaxtoll:\n",
    "        maxmaxtoll = maxtoll\n",
    "        maxmaxA = maxA.copy()\n",
    "print(f\"maxmaxtoll={maxmaxtoll}, maxmaxA={maxmaxA}\")"
   ]
  },
  {
   "cell_type": "code",
   "execution_count": 3,
   "metadata": {},
   "outputs": [],
   "source": [
    "best = (0,0)\n",
    "r = 0\n",
    "for _ in range(100_000):\n",
    "    r += 1\n",
    "    v = get_tree_entropy(gen_fldr_tree([1,r], max_depth=r.bit_length()*2))-H([1,r])\n",
    "    if best[0] < v:\n",
    "        best = (v, v+H([1,r]), r)\n",
    "        if best[0] > 1.9999:\n",
    "            print(best)"
   ]
  }
 ],
 "metadata": {
  "kernelspec": {
   "display_name": "aldr-experiments",
   "language": "python",
   "name": "python3"
  },
  "language_info": {
   "codemirror_mode": {
    "name": "ipython",
    "version": 3
   },
   "file_extension": ".py",
   "mimetype": "text/x-python",
   "name": "python",
   "nbconvert_exporter": "python",
   "pygments_lexer": "ipython3",
   "version": "3.12.3"
  }
 },
 "nbformat": 4,
 "nbformat_minor": 2
}
